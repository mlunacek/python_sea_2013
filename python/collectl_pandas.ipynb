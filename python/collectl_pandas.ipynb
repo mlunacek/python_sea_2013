{
 "metadata": {
  "name": "collectl_pandas"
 },
 "nbformat": 3,
 "nbformat_minor": 0,
 "worksheets": [
  {
   "cells": [
    {
     "cell_type": "markdown",
     "metadata": {},
     "source": [
      "# Data Analysis with Pandas\n",
      "\n",
      "## Collectl dataset\n",
      "\n",
      "### What is the CPU usage for a single node?"
     ]
    },
    {
     "cell_type": "code",
     "collapsed": false,
     "input": [
      "import os\n",
      "import glob\n",
      "import pandas as pd"
     ],
     "language": "python",
     "metadata": {},
     "outputs": [],
     "prompt_number": 2
    },
    {
     "cell_type": "code",
     "collapsed": false,
     "input": [
      "files = glob.glob(os.path.join('qiime_workflow','node*.tab'))\n",
      "files"
     ],
     "language": "python",
     "metadata": {},
     "outputs": [
      {
       "output_type": "pyout",
       "prompt_number": 3,
       "text": [
        "['qiime_workflow/node0238-20130329.tab',\n",
        " 'qiime_workflow/node0260-20130329.tab',\n",
        " 'qiime_workflow/node0267-20130329.tab',\n",
        " 'qiime_workflow/node0303-20130329.tab',\n",
        " 'qiime_workflow/node0332-20130329.tab',\n",
        " 'qiime_workflow/node0374-20130329.tab',\n",
        " 'qiime_workflow/node0378-20130329.tab',\n",
        " 'qiime_workflow/node0379-20130329.tab',\n",
        " 'qiime_workflow/node0766-20130329.tab',\n",
        " 'qiime_workflow/node1767-20130329.tab']"
       ]
      }
     ],
     "prompt_number": 3
    },
    {
     "cell_type": "code",
     "collapsed": false,
     "input": [
      "filename = files[0]"
     ],
     "language": "python",
     "metadata": {},
     "outputs": [],
     "prompt_number": 4
    },
    {
     "cell_type": "code",
     "collapsed": false,
     "input": [
      "tmp = pd.read_table(filename, header=True,\n",
      "                       skiprows=range(16), \n",
      "                       sep ='\\s+', \n",
      "                       parse_dates={'Timestamp': ['#Date', 'Time']},\n",
      "                       index_col='Timestamp')"
     ],
     "language": "python",
     "metadata": {},
     "outputs": [],
     "prompt_number": 5
    },
    {
     "cell_type": "code",
     "collapsed": false,
     "input": [
      "tmp.columns[:10]"
     ],
     "language": "python",
     "metadata": {},
     "outputs": [
      {
       "output_type": "pyout",
       "prompt_number": 6,
       "text": [
        "Index([[CPU]User%, [CPU]Nice%, [CPU]Sys%, [CPU]Wait%, [CPU]Irq%, [CPU]Soft%, [CPU]Steal%, [CPU]Idle%, [CPU]Totl%, [CPU]Intrpt/sec], dtype=object)"
       ]
      }
     ],
     "prompt_number": 6
    },
    {
     "cell_type": "code",
     "collapsed": false,
     "input": [
      "cpu = tmp['[CPU]User%']"
     ],
     "language": "python",
     "metadata": {},
     "outputs": [],
     "prompt_number": 7
    },
    {
     "cell_type": "code",
     "collapsed": false,
     "input": [
      "cpu.plot()"
     ],
     "language": "python",
     "metadata": {},
     "outputs": [
      {
       "output_type": "pyout",
       "prompt_number": 8,
       "text": [
        "<matplotlib.axes.AxesSubplot at 0x106a0e2d0>"
       ]
      },
      {
       "output_type": "display_data",
       "png": "[encoded data removed]"
      }
     ],
     "prompt_number": 8
    },
    {
     "cell_type": "markdown",
     "metadata": {},
     "source": [
      "### How about all the nodes?"
     ]
    },
    {
     "cell_type": "code",
     "collapsed": false,
     "input": [
      "def get_node_name(filename):\n",
      "    index = filename.find('node')\n",
      "    return filename[index:index+8]"
     ],
     "language": "python",
     "metadata": {},
     "outputs": [],
     "prompt_number": 9
    },
    {
     "cell_type": "code",
     "collapsed": false,
     "input": [
      "cpu_list = []\n",
      "for filename in files:\n",
      "    node_name = get_node_name(filename)\n",
      "    tmp = pd.read_table(filename, header=True,\n",
      "                       skiprows=range(16), \n",
      "                       sep ='\\s+', \n",
      "                       parse_dates={'Timestamp': ['#Date', 'Time']},\n",
      "                       index_col='Timestamp')\n",
      "    cpu = pd.DataFrame(tmp['[CPU]User%'], columns=[node_name])\n",
      "    cpu_list.append(cpu)"
     ],
     "language": "python",
     "metadata": {},
     "outputs": [],
     "prompt_number": 10
    },
    {
     "cell_type": "code",
     "collapsed": false,
     "input": [
      "print cpu_list[0].head()"
     ],
     "language": "python",
     "metadata": {},
     "outputs": [
      {
       "output_type": "stream",
       "stream": "stdout",
       "text": [
        "                     node0238\n",
        "Timestamp                    \n",
        "2013-03-29 11:40:49         0\n",
        "2013-03-29 11:40:50         0\n",
        "2013-03-29 11:40:51         0\n",
        "2013-03-29 11:40:52         0\n",
        "2013-03-29 11:40:53         0\n"
       ]
      }
     ],
     "prompt_number": 11
    },
    {
     "cell_type": "code",
     "collapsed": false,
     "input": [
      "all_cpu = pd.concat(cpu_list, axis=1)\n",
      "print all_cpu.head()"
     ],
     "language": "python",
     "metadata": {},
     "outputs": [
      {
       "output_type": "stream",
       "stream": "stdout",
       "text": [
        "                     node0238  node0260  node0267  node0303  node0332  node0374  \\\n",
        "Timestamp                                                                         \n",
        "2013-03-29 11:40:49         0         0         0         0         0         0   \n",
        "2013-03-29 11:40:50         0         0         0         0         0         0   \n",
        "2013-03-29 11:40:51         0         0         0         0         0         0   \n",
        "2013-03-29 11:40:52         0         0         0         0         0         0   \n",
        "2013-03-29 11:40:53         0         0         0         0         0         0   \n",
        "\n",
        "                     node0378  node0379  node0766  node1767  \n",
        "Timestamp                                                    \n",
        "2013-03-29 11:40:49         0         0         0         0  \n",
        "2013-03-29 11:40:50         0         0         0         0  \n",
        "2013-03-29 11:40:51         0         0         0         0  \n",
        "2013-03-29 11:40:52         0         0         1         0  \n",
        "2013-03-29 11:40:53         0         0         1         0  \n"
       ]
      }
     ],
     "prompt_number": 12
    },
    {
     "cell_type": "code",
     "collapsed": false,
     "input": [
      "all_cpu.plot()"
     ],
     "language": "python",
     "metadata": {},
     "outputs": [
      {
       "output_type": "pyout",
       "prompt_number": 13,
       "text": [
        "<matplotlib.axes.AxesSubplot at 0x106b11110>"
       ]
      },
      {
       "output_type": "display_data",
       "png": "[encoded data removed]"
      }
     ],
     "prompt_number": 13
    },
    {
     "cell_type": "markdown",
     "metadata": {},
     "source": [
      "### Export and plot"
     ]
    },
    {
     "cell_type": "code",
     "collapsed": false,
     "input": [
      "all_cpu.to_csv('all_cpu.csv')"
     ],
     "language": "python",
     "metadata": {},
     "outputs": [],
     "prompt_number": 14
    },
    {
     "cell_type": "code",
     "collapsed": false,
     "input": [
      "!head all_cpu.csv"
     ],
     "language": "python",
     "metadata": {},
     "outputs": [
      {
       "output_type": "stream",
       "stream": "stdout",
       "text": [
        "Timestamp,node0238,node0260,node0267,node0303,node0332,node0374,node0378,node0379,node0766,node1767\r\n",
        "2013-03-29 11:40:49,0,0,0,0,0,0,0,0,0,0\r\n",
        "2013-03-29 11:40:50,0,0,0,0,0,0,0,0,0,0\r\n",
        "2013-03-29 11:40:51,0,0,0,0,0,0,0,0,0,0\r\n",
        "2013-03-29 11:40:52,0,0,0,0,0,0,0,0,1,0\r\n",
        "2013-03-29 11:40:53,0,0,0,0,0,0,0,0,1,0\r\n",
        "2013-03-29 11:40:54,0,0,0,0,0,0,0,0,1,0\r\n",
        "2013-03-29 11:40:55,0,0,0,0,0,0,0,0,0,0\r\n",
        "2013-03-29 11:40:56,0,0,0,0,0,0,0,0,0,0\r\n",
        "2013-03-29 11:40:57,0,0,0,0,0,0,0,0,0,0\r\n"
       ]
      }
     ],
     "prompt_number": 15
    },
    {
     "cell_type": "code",
     "collapsed": false,
     "input": [],
     "language": "python",
     "metadata": {},
     "outputs": []
    }
   ],
   "metadata": {}
  }
 ]
}